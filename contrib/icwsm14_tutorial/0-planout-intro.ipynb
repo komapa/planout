{
 "metadata": {
  "name": "",
  "signature": "sha256:273464aefa77930fafe1cf53209f0445ea0175f18b2edaf68e4404a9a4a1af91"
 },
 "nbformat": 3,
 "nbformat_minor": 0,
 "worksheets": [
  {
   "cells": [
    {
     "cell_type": "heading",
     "level": 1,
     "metadata": {},
     "source": [
      "Introduction to PlanOut for computational social science"
     ]
    },
    {
     "cell_type": "heading",
     "level": 2,
     "metadata": {},
     "source": [
      "A simple A/B test (single factor experiment)"
     ]
    },
    {
     "cell_type": "markdown",
     "metadata": {},
     "source": [
      "This imports basic operators for doing random assignment and SimpleExperiment, the base class for logging"
     ]
    },
    {
     "cell_type": "code",
     "collapsed": false,
     "input": [
      "from planout.ops.random import *\n",
      "from planout.experiment import SimpleExperiment\n",
      "import pandas as pd"
     ],
     "language": "python",
     "metadata": {},
     "outputs": [],
     "prompt_number": 1
    },
    {
     "cell_type": "markdown",
     "metadata": {},
     "source": [
      "You can define new experiments by subclassing `SimpleExperiment`, and implementing an `assign()` method."
     ]
    },
    {
     "cell_type": "code",
     "collapsed": false,
     "input": [
      "class VotingExperiment(SimpleExperiment):\n",
      "  def assign(self, params, userid):\n",
      "    params.button_text = UniformChoice(\n",
      "      choices=[\"I'm a voter\", \"I'm voting\"],\n",
      "      unit=userid)"
     ],
     "language": "python",
     "metadata": {},
     "outputs": [],
     "prompt_number": 2
    },
    {
     "cell_type": "markdown",
     "metadata": {},
     "source": [
      "You can get randomized assignments for your input units by creating instances of the class. The code below gets the parameter values, `button_text` for `userid` = 4."
     ]
    },
    {
     "cell_type": "code",
     "collapsed": false,
     "input": [
      "e = VotingExperiment(userid=4)\n",
      "print e.get('button_text')"
     ],
     "language": "python",
     "metadata": {},
     "outputs": [
      {
       "output_type": "stream",
       "stream": "stdout",
       "text": [
        "I'm voting\n"
       ]
      }
     ],
     "prompt_number": 4
    },
    {
     "cell_type": "markdown",
     "metadata": {},
     "source": [
      "Here are the assignments for 10 userids."
     ]
    },
    {
     "cell_type": "code",
     "collapsed": false,
     "input": [
      "for i in xrange(10):\n",
      "    e = VotingExperiment(userid=i)\n",
      "    print \"cookie = %s: %s, %s\" % (i, e.get('button_text'), e.get('button_color'))"
     ],
     "language": "python",
     "metadata": {},
     "outputs": [
      {
       "output_type": "stream",
       "stream": "stdout",
       "text": [
        "user = 0: sees I'm a voter.\n",
        "user = 1: sees I'm a voter.\n",
        "user = 2: sees I'm voting.\n",
        "user = 3: sees I'm voting.\n",
        "user = 4: sees I'm voting.\n",
        "user = 5: sees I'm voting.\n",
        "user = 6: sees I'm a voter.\n",
        "user = 7: sees I'm a voter.\n",
        "user = 8: sees I'm voting.\n",
        "user = 9: sees I'm a voter.\n"
       ]
      }
     ],
     "prompt_number": 8
    },
    {
     "cell_type": "markdown",
     "metadata": {},
     "source": [
      "To check to see that the experiment is doing what we expect it to, we can simulate assignments for many userids and construct a dataframe with all of the assignments:"
     ]
    },
    {
     "cell_type": "code",
     "collapsed": false,
     "input": [
      "sim_users = [VotingExperiment(userid=i).get_params() for i in xrange(1000)]\n",
      "assignments = pd.DataFrame.from_dict(sim_users)\n",
      "print assignments[:5]"
     ],
     "language": "python",
     "metadata": {},
     "outputs": [
      {
       "output_type": "stream",
       "stream": "stdout",
       "text": [
        "   button_text\n",
        "0  I'm a voter\n",
        "1  I'm a voter\n",
        "2   I'm voting\n",
        "3   I'm voting\n",
        "4   I'm voting\n",
        "\n",
        "[5 rows x 1 columns]\n"
       ]
      }
     ],
     "prompt_number": 7
    },
    {
     "cell_type": "code",
     "collapsed": false,
     "input": [
      "print assignments.groupby(['button_text']).size()"
     ],
     "language": "python",
     "metadata": {},
     "outputs": [
      {
       "output_type": "stream",
       "stream": "stdout",
       "text": [
        "button_text\n",
        "I'm a voter    476\n",
        "I'm voting     524\n",
        "dtype: int64\n"
       ]
      }
     ],
     "prompt_number": 9
    },
    {
     "cell_type": "heading",
     "level": 2,
     "metadata": {},
     "source": [
      "Factorial designs"
     ]
    },
    {
     "cell_type": "markdown",
     "metadata": {},
     "source": [
      "Parameter assigns (by default) are performed independently, so a 2x2 design can be constructed simply by setting another parameter."
     ]
    },
    {
     "cell_type": "code",
     "collapsed": false,
     "input": [
      "class VotingExperiment(SimpleExperiment):\n",
      "  def assign(self, params, userid):\n",
      "    params.button_text = UniformChoice(\n",
      "      choices=[\"I'm a voter\", \"I'm voting\"], unit=userid)\n",
      "    params.has_social_cues = UniformChoice(\n",
      "      choices=[1, 0], unit=userid)"
     ],
     "language": "python",
     "metadata": {},
     "outputs": [],
     "prompt_number": 14
    },
    {
     "cell_type": "code",
     "collapsed": false,
     "input": [
      "e = VotingExperiment(userid=4)\n",
      "print e.get('button_text'), e.get('has_social_cues')"
     ],
     "language": "python",
     "metadata": {},
     "outputs": [
      {
       "output_type": "stream",
       "stream": "stdout",
       "text": [
        "I'm voting 0\n"
       ]
      }
     ],
     "prompt_number": 16
    },
    {
     "cell_type": "markdown",
     "metadata": {},
     "source": [
      "A few examples of assignments produced by the data..."
     ]
    },
    {
     "cell_type": "code",
     "collapsed": false,
     "input": [
      "sim_users = [VotingExperiment(userid=i).get_params() for i in xrange(2000)]\n",
      "assignments = pd.DataFrame.from_dict(sim_users)\n",
      "print assignments[:5]"
     ],
     "language": "python",
     "metadata": {},
     "outputs": [
      {
       "output_type": "stream",
       "stream": "stdout",
       "text": [
        "   button_text  has_social_cues\n",
        "0  I'm a voter                0\n",
        "1  I'm a voter                0\n",
        "2   I'm voting                0\n",
        "3   I'm voting                1\n",
        "4   I'm voting                0\n",
        "\n",
        "[5 rows x 2 columns]\n"
       ]
      }
     ],
     "prompt_number": 17
    },
    {
     "cell_type": "markdown",
     "metadata": {},
     "source": [
      "Crosstabs: "
     ]
    },
    {
     "cell_type": "code",
     "collapsed": false,
     "input": [
      "print assignments.groupby(['button_text', 'has_social_cues']).size()"
     ],
     "language": "python",
     "metadata": {},
     "outputs": [
      {
       "output_type": "stream",
       "stream": "stdout",
       "text": [
        "button_text  has_social_cues\n",
        "I'm a voter  0                  508\n",
        "             1                  476\n",
        "I'm voting   0                  525\n",
        "             1                  491\n",
        "dtype: int64\n"
       ]
      }
     ],
     "prompt_number": 18
    },
    {
     "cell_type": "heading",
     "level": 3,
     "metadata": {},
     "source": [
      "Unequal probability assignment with `WeightedChoice`"
     ]
    },
    {
     "cell_type": "markdown",
     "metadata": {},
     "source": [
      "The `WeightedChoice` operator lets you choose among multiple choices with different frequencies. The `weights` parameter is any set of weights (integer or floating point) to select among `choices`."
     ]
    },
    {
     "cell_type": "code",
     "collapsed": false,
     "input": [
      "class VotingExperiment(SimpleExperiment):\n",
      "  def assign(self, params, userid):\n",
      "    params.button_text = UniformChoice(\n",
      "      choices=[\"I'm a voter\", \"I'm voting\"], unit=userid)\n",
      "    params.has_social_cues = WeightedChoice(\n",
      "      choices=[1, 0], weights=[0.8, 0.2], unit=userid)"
     ],
     "language": "python",
     "metadata": {},
     "outputs": [],
     "prompt_number": 19
    },
    {
     "cell_type": "markdown",
     "metadata": {},
     "source": [
      "The button text frequencies reflect these weights, while the button color continues to be split in equal proportions."
     ]
    },
    {
     "cell_type": "code",
     "collapsed": false,
     "input": [
      "sim_users = [VotingExperiment(userid=i).get_params() for i in xrange(2000)]\n",
      "assignments = pd.DataFrame.from_dict(sim_users)\n",
      "print assignments.groupby(['button_text', 'has_social_cues']).size()"
     ],
     "language": "python",
     "metadata": {},
     "outputs": [
      {
       "output_type": "stream",
       "stream": "stdout",
       "text": [
        "button_text  has_social_cues\n",
        "I'm a voter  0                  191\n",
        "             1                  793\n",
        "I'm voting   0                  191\n",
        "             1                  825\n",
        "dtype: int64\n"
       ]
      }
     ],
     "prompt_number": 20
    },
    {
     "cell_type": "heading",
     "level": 2,
     "metadata": {},
     "source": [
      "Arbitrary cell probabilites in a factorial design"
     ]
    },
    {
     "cell_type": "markdown",
     "metadata": {},
     "source": [
      "Suppose you wanted to assign users with a matrix of probabilities:\n",
      "\n",
      "$$ \\left[\n",
      "  \\begin{array}{ l c c }\n",
      "     & \\text{no feed} & \\text{feed} \\\\\n",
      "     \\text{megaphone} & 0.975 & 0.25 \\\\\n",
      "     \\text{no megaphone} & 0.25 & 0.25\n",
      "  \\end{array} \\right]$$\n",
      "  \n",
      "There are multiple ways to do this."
     ]
    },
    {
     "cell_type": "markdown",
     "metadata": {},
     "source": [
      "** to be continued... **"
     ]
    },
    {
     "cell_type": "heading",
     "level": 2,
     "metadata": {},
     "source": [
      "More than 2 factor levels"
     ]
    },
    {
     "cell_type": "markdown",
     "metadata": {},
     "source": [
      "Small changes in appearance can have significant effects on individual behavior. Google is infamous for testing [41 different shades of blue](http://www.nytimes.com/2009/03/01/business/01marissa.html) for their link colors. Let's implement that experiment."
     ]
    },
    {
     "cell_type": "code",
     "collapsed": false,
     "input": [
      "class ColorExperiment(SimpleExperiment):\n",
      "  def assign(self, params, userid):\n",
      "    params.blue_value = RandomInteger(min=215, max=255, unit=userid)\n",
      "    params.button_color = '#0000%s' % format(params.blue_value, '02x')"
     ],
     "language": "python",
     "metadata": {},
     "outputs": [],
     "prompt_number": 21
    },
    {
     "cell_type": "code",
     "collapsed": false,
     "input": [
      "ColorExperiment(userid=10).get_params()"
     ],
     "language": "python",
     "metadata": {},
     "outputs": [
      {
       "metadata": {},
       "output_type": "pyout",
       "prompt_number": 22,
       "text": [
        "{'blue_value': 238, 'button_color': '#0000ee'}"
       ]
      }
     ],
     "prompt_number": 22
    },
    {
     "cell_type": "code",
     "collapsed": false,
     "input": [
      "sim_users = [ColorExperiment(userid=i).get_params() for i in xrange(20000)]\n",
      "assignments = pd.DataFrame.from_dict(sim_users)"
     ],
     "language": "python",
     "metadata": {},
     "outputs": [],
     "prompt_number": 23
    },
    {
     "cell_type": "code",
     "collapsed": false,
     "input": [
      "assignments[:5]"
     ],
     "language": "python",
     "metadata": {},
     "outputs": [
      {
       "html": [
        "<div style=\"max-height:1000px;max-width:1500px;overflow:auto;\">\n",
        "<table border=\"1\" class=\"dataframe\">\n",
        "  <thead>\n",
        "    <tr style=\"text-align: right;\">\n",
        "      <th></th>\n",
        "      <th>blue_value</th>\n",
        "      <th>button_color</th>\n",
        "    </tr>\n",
        "  </thead>\n",
        "  <tbody>\n",
        "    <tr>\n",
        "      <th>0</th>\n",
        "      <td> 231</td>\n",
        "      <td> #0000e7</td>\n",
        "    </tr>\n",
        "    <tr>\n",
        "      <th>1</th>\n",
        "      <td> 223</td>\n",
        "      <td> #0000df</td>\n",
        "    </tr>\n",
        "    <tr>\n",
        "      <th>2</th>\n",
        "      <td> 226</td>\n",
        "      <td> #0000e2</td>\n",
        "    </tr>\n",
        "    <tr>\n",
        "      <th>3</th>\n",
        "      <td> 242</td>\n",
        "      <td> #0000f2</td>\n",
        "    </tr>\n",
        "    <tr>\n",
        "      <th>4</th>\n",
        "      <td> 247</td>\n",
        "      <td> #0000f7</td>\n",
        "    </tr>\n",
        "  </tbody>\n",
        "</table>\n",
        "<p>5 rows \u00d7 2 columns</p>\n",
        "</div>"
       ],
       "metadata": {},
       "output_type": "pyout",
       "prompt_number": 24,
       "text": [
        "   blue_value button_color\n",
        "0         231      #0000e7\n",
        "1         223      #0000df\n",
        "2         226      #0000e2\n",
        "3         242      #0000f2\n",
        "4         247      #0000f7\n",
        "\n",
        "[5 rows x 2 columns]"
       ]
      }
     ],
     "prompt_number": 24
    },
    {
     "cell_type": "code",
     "collapsed": false,
     "input": [
      "assignments['blue_value'].hist(bins=41);"
     ],
     "language": "python",
     "metadata": {},
     "outputs": [
      {
       "metadata": {},
       "output_type": "display_data",
       "png": "[encoded data removed]",
       "text": [
        "<matplotlib.figure.Figure at 0x1075b4550>"
       ]
      }
     ],
     "prompt_number": 25
    },
    {
     "cell_type": "heading",
     "level": 2,
     "metadata": {},
     "source": [
      "Within-subjects designs (simple random assignment)"
     ]
    },
    {
     "cell_type": "markdown",
     "metadata": {},
     "source": [
      "In some cases you might want to assign user-item pairs or user-session pairs to parameters. You can do this by simply passing more units into `assign()` and applying multiple units."
     ]
    },
    {
     "cell_type": "code",
     "collapsed": true,
     "input": [
      "class SelectiveExposureExperiment(SimpleExperiment):\n",
      "  def assign(self, params, subjectid, url):\n",
      "    params.has_source_cues = BernoulliTrial(p=0.5, unit=subjectid)\n",
      "    params.has_social_cues = BernoulliTrial(p=0.5, unit=subjectid)\n",
      "    \n",
      "    if params.has_source_cues:\n",
      "      params.source = UniformChoice(choices=['Fox News','USA Today', 'MSNBC'], unit=[subjectid, url])"
     ],
     "language": "python",
     "metadata": {},
     "outputs": [],
     "prompt_number": 98
    },
    {
     "cell_type": "heading",
     "level": 2,
     "metadata": {},
     "source": [
      "Within-subjects designs (balanced random assignment)"
     ]
    },
    {
     "cell_type": "code",
     "collapsed": false,
     "input": [
      "from itertools import cycle, islice\n",
      "\n",
      "class SelectiveExposureExperiment(SimpleExperiment):\n",
      "  def assign(self, params, subjectid, urls):\n",
      "    params.has_social_cues = BernoulliTrial(p=0.5, unit=subjectid)\n",
      "    balanced_sources = list(islice(cycle(['Fox News','USA Today', 'MSNBC']), len(urls)))\n",
      "    params.shuffled_sources = Sample(choices=balanced_sources, unit=subjectid)\n",
      "    params.shuffled_urls = Sample(choices=urls, unit=subjectid)"
     ],
     "language": "python",
     "metadata": {},
     "outputs": [],
     "prompt_number": 95
    },
    {
     "cell_type": "code",
     "collapsed": false,
     "input": [
      "ex_urls = ['http://reuters.com/article%s.html' % i for i in xrange(6)]\n",
      "\n",
      "SelectiveExposureExperiment(subjectid=5, urls=ex_urls).get_params()"
     ],
     "language": "python",
     "metadata": {},
     "outputs": [
      {
       "metadata": {},
       "output_type": "pyout",
       "prompt_number": 97,
       "text": [
        "{'has_social_cues': 0,\n",
        " 'shuffled_sources': ['USA Today',\n",
        "  'MSNBC',\n",
        "  'Fox News',\n",
        "  'USA Today',\n",
        "  'Fox News',\n",
        "  'MSNBC'],\n",
        " 'shuffled_urls': ['http://reuters.com/article5.html',\n",
        "  'http://reuters.com/article0.html',\n",
        "  'http://reuters.com/article1.html',\n",
        "  'http://reuters.com/article2.html',\n",
        "  'http://reuters.com/article4.html',\n",
        "  'http://reuters.com/article3.html']}"
       ]
      }
     ],
     "prompt_number": 97
    },
    {
     "cell_type": "heading",
     "level": 2,
     "metadata": {},
     "source": [
      "Clustered random assignment"
     ]
    },
    {
     "cell_type": "markdown",
     "metadata": {},
     "source": [
      "Random assignment does not need to occur at the user level. For example, a course on MOOCs might randomize classes into treatment conditions."
     ]
    },
    {
     "cell_type": "code",
     "collapsed": false,
     "input": [
      "class BadgeExperiment(SimpleExperiment):\n",
      "  def assign(self, params, studentid, courseid):\n",
      "    params.has_faces = BernoulliTrial(p=0.8, unit=courseid)"
     ],
     "language": "python",
     "metadata": {},
     "outputs": [],
     "prompt_number": 29
    },
    {
     "cell_type": "heading",
     "level": 2,
     "metadata": {},
     "source": [
      "Stepped-wedge design"
     ]
    },
    {
     "cell_type": "markdown",
     "metadata": {},
     "source": [
      "Stepped wedge designs expose clusters of subjects to treatments at a certain random point in time."
     ]
    },
    {
     "cell_type": "code",
     "collapsed": false,
     "input": [
      "class BadgeExperiment(SimpleExperiment):\n",
      "  def assign(self, params, studentid, courseid, week):\n",
      "    params.rollout_week = RandomInteger(min=0, max=8, unit=courseid)\n",
      "    if week >= params.rollout_week:\n",
      "      params.has_faces = 1\n",
      "    else:\n",
      "      params.has_faces = 0"
     ],
     "language": "python",
     "metadata": {},
     "outputs": [],
     "prompt_number": 65
    },
    {
     "cell_type": "code",
     "collapsed": false,
     "input": [
      "example_course = 1199\n",
      "e = BadgeExperiment(studentid=2, courseid=example_course, week=0)\n",
      "rollout_week = e.get('rollout_week')\n",
      "print 'The badge rollout for course %s is %s...' % (example_course, rollout_week)\n",
      "\n",
      "for week in xrange(9):\n",
      "  has_faces = BadgeExperiment(studentid=2, courseid=example_course, week=week).get('has_faces')\n",
      "  print 'week %s: has_faces = %s ' % (week, has_faces)"
     ],
     "language": "python",
     "metadata": {},
     "outputs": [
      {
       "output_type": "stream",
       "stream": "stdout",
       "text": [
        "The badge rollout for course 1199 is 5...\n",
        "week 0: has_faces = 0 \n",
        "week 1: has_faces = 0 \n",
        "week 2: has_faces = 0 \n",
        "week 3: has_faces = 0 \n",
        "week 4: has_faces = 0 \n",
        "week 5: has_faces = 1 \n",
        "week 6: has_faces = 1 \n",
        "week 7: has_faces = 1 \n",
        "week 8: has_faces = 1 \n"
       ]
      }
     ],
     "prompt_number": 74
    },
    {
     "cell_type": "heading",
     "level": 2,
     "metadata": {},
     "source": [
      "Social cues experiment"
     ]
    },
    {
     "cell_type": "markdown",
     "metadata": {},
     "source": [
      "Let's consider a case where you had multiple ranking models you wanted to compare against the control, and you were interested in doing a within-subjects design. You could first assign users to candidate models, and then assign users to either see the control or candidate model."
     ]
    },
    {
     "cell_type": "code",
     "collapsed": false,
     "input": [
      "class CueExperiment(SimpleExperiment):\n",
      "  def assign(self, params, userid, page, friends):\n",
      "    params.num_friends_shown = RandomInteger(\n",
      "      min=0, max=min(3, len(friends)), unit=[userid, page])\n",
      "    params.friends_shown = Sample(\n",
      "      choices=friends, draws=params.num_friends_shown, unit=[userid, page])\n",
      "\n",
      "for s in xrange(10):\n",
      "    print CueExperiment(userid=s, page=2, friends=range(10)).get('friends_shown')"
     ],
     "language": "python",
     "metadata": {},
     "outputs": [
      {
       "output_type": "stream",
       "stream": "stdout",
       "text": [
        "[5, 7, 2]\n",
        "[]\n",
        "[]\n",
        "[]\n",
        "[7, 9, 0]\n",
        "[]\n",
        "[]\n",
        "[5, 2]\n",
        "[4]\n",
        "[5, 7, 3]\n"
       ]
      }
     ],
     "prompt_number": 110
    },
    {
     "cell_type": "heading",
     "level": 2,
     "metadata": {},
     "source": [
      "More complex between subjects experiment"
     ]
    },
    {
     "cell_type": "markdown",
     "metadata": {},
     "source": [
      "Sometimes we are interested in how manipulations may in aggregate affect a subjects' outcomes. For example, **to what extent does feedback on a user's content future content production?** To answer this question, we can modulate the amount of feedback focal subjects receive by varying encouragements to peers providing feedback."
     ]
    },
    {
     "cell_type": "code",
     "collapsed": false,
     "input": [
      "class ContenExperiment(SimpleExperiment):\n",
      "  def assign(self, params, userid, post, viewerid):\n",
      "    params.p = RandomFloat(min=0, max=1, unit=userid)\n",
      "    params.collapse = BernoulliTrial(p=params.p, unit=[post, viewerid])"
     ],
     "language": "python",
     "metadata": {},
     "outputs": [],
     "prompt_number": 109
    },
    {
     "cell_type": "markdown",
     "metadata": {},
     "source": [
      "Each user has some overall probability that viewers of their story will see an expanded or collapsed version of their post. Expanded versions receive more feedback. Subjects are assigned some proportion of impressions of their stories to be collapsed. The `collapse` parameter is assigned using both the post and the viewer, so that different posts and different viewers may see the story collapsed some times but not others. *** For participants, think about the effects of experiments which do not include post as a unit in randomization ***"
     ]
    },
    {
     "cell_type": "heading",
     "level": 1,
     "metadata": {},
     "source": [
      "How random assignment works in PlanOut"
     ]
    },
    {
     "cell_type": "markdown",
     "metadata": {},
     "source": [
      "PlanOut hashes input data to provide developers with randomized parameter assignments. Unless otherwise specified, all random assignments are independent. It combines experiment-level and parameter-level salts with the given input units in a way that ensures that:\n",
      "  * The same units (e.g., user ids) get mapped to different values for different experiments or parameters.\n",
      "  * Assignments are as good as random.\n",
      "\n",
      "Underneath the hood, PlanOut computes a hash that looks like\n",
      "\n",
      "    f(SHA1(experiment_name.parameter_name.unit_id))\n",
      "\n",
      "So for example, in the experiment below, PlanOut computes something that looks like:\n",
      "\n",
      "    SHA1(RandomExample1.x.4) % 2\n",
      "  \n",
      "to select the value for `x` when the given `userid` is 4."
     ]
    },
    {
     "cell_type": "heading",
     "level": 3,
     "metadata": {},
     "source": [
      "Parameter-level salts"
     ]
    },
    {
     "cell_type": "code",
     "collapsed": false,
     "input": [
      "class RandomExample1(SimpleExperiment):\n",
      "  def assign(self, params, userid):\n",
      "    params.x = UniformChoice(choices=[0, 1], unit=userid)\n",
      "    params.y = UniformChoice(choices=['a','b'], unit=userid)\n",
      "    \n",
      "sim_users = [RandomExample1(userid=i).get_params() for i in xrange(2000)]\n",
      "assignments = pd.DataFrame.from_dict(sim_users)\n",
      "print assignments.groupby(['x', 'y']).size()"
     ],
     "language": "python",
     "metadata": {},
     "outputs": []
    },
    {
     "cell_type": "markdown",
     "metadata": {},
     "source": [
      "PlanOut automatically \"salts\" each random assignment operator with the name of the parameter you are assigning. By writing `params.foo = Bar(...)`, you are implicitly passing the salt, \"foo\", into `Bar()`. The following experiment is equivalent to the code above."
     ]
    },
    {
     "cell_type": "code",
     "collapsed": false,
     "input": [
      "class RandomExample1(SimpleExperiment):\n",
      "  def assign(self, params, userid):\n",
      "    params.x = UniformChoice(choices=[0, 1], unit=userid, salt='x')\n",
      "    params.y = UniformChoice(choices=['a','b'], unit=userid, salt='y')\n",
      "    \n",
      "sim_users = [RandomExample1(userid=i).get_params() for i in xrange(2000)]\n",
      "assignments = pd.DataFrame.from_dict(sim_users)\n",
      "print assignments.groupby(['x', 'y']).size()"
     ],
     "language": "python",
     "metadata": {},
     "outputs": []
    },
    {
     "cell_type": "markdown",
     "metadata": {},
     "source": [
      "Comparing the cross tabs from the first and second experiments, it's clear that the two experiments produce identical assignments."
     ]
    },
    {
     "cell_type": "heading",
     "level": 4,
     "metadata": {},
     "source": [
      "Changing the salts change the assignments:"
     ]
    },
    {
     "cell_type": "code",
     "collapsed": false,
     "input": [
      "class RandomExample1(SimpleExperiment):\n",
      "  def assign(self, params, userid):\n",
      "    params.x = UniformChoice(choices=[0, 1], unit=userid, salt='x2')\n",
      "    params.y = UniformChoice(choices=['a','b'], unit=userid, salt='y2')\n",
      "    \n",
      "sim_users = [RandomExample1(userid=i).get_params() for i in xrange(2000)]\n",
      "assignments = pd.DataFrame.from_dict(sim_users)\n",
      "print assignments.groupby(['x', 'y']).size()"
     ],
     "language": "python",
     "metadata": {},
     "outputs": []
    },
    {
     "cell_type": "heading",
     "level": 4,
     "metadata": {},
     "source": [
      "Parameters with the same salt will have correlated assignments. If you use the same salt for the exact same kind of random operation, your assignments will be perfectly correlated."
     ]
    },
    {
     "cell_type": "code",
     "collapsed": false,
     "input": [
      "class RandomExample1(SimpleExperiment):\n",
      "  def assign(self, params, userid):\n",
      "    params.x = UniformChoice(choices=[0, 1], unit=userid, salt='x')\n",
      "    params.y = UniformChoice(choices=['a','b'], unit=userid, salt='x')\n",
      "    \n",
      "sim_users = [RandomExample1(userid=i).get_params() for i in xrange(2000)]\n",
      "assignments = pd.DataFrame.from_dict(sim_users)\n",
      "print assignments.groupby(['x', 'y']).size()"
     ],
     "language": "python",
     "metadata": {},
     "outputs": []
    },
    {
     "cell_type": "heading",
     "level": 3,
     "metadata": {},
     "source": [
      "Experiment-level salts"
     ]
    },
    {
     "cell_type": "markdown",
     "metadata": {},
     "source": [
      "Each experiment also has its own salt. This makes it so that parameters with the same name will have independent random assignments, and also allows you to synchronize assignments across experiments in special situations."
     ]
    },
    {
     "cell_type": "heading",
     "level": 4,
     "metadata": {},
     "source": [
      "By default, experiment class names are used as experiment-level salts"
     ]
    },
    {
     "cell_type": "markdown",
     "metadata": {},
     "source": [
      "This keeps parameter assignments for parameters with the same name independent of one another."
     ]
    },
    {
     "cell_type": "code",
     "collapsed": false,
     "input": [
      "class RandomExample1(SimpleExperiment):\n",
      "  def assign(self, params, userid):\n",
      "    params.x = UniformChoice(choices=[0, 1], unit=userid)\n",
      "    params.y = UniformChoice(choices=['a','b'], unit=userid)\n",
      "    \n",
      "class RandomExample2(SimpleExperiment):\n",
      "  def assign(self, params, userid):\n",
      "    params.x = UniformChoice(choices=[4, 8], unit=userid)\n",
      "    params.y = UniformChoice(choices=['m','n'], unit=userid)\n",
      "\n",
      "sim_users = [RandomExample1(userid=i).get_params() for i in xrange(4000)]\n",
      "assignments = pd.DataFrame.from_dict(sim_users)\n",
      "print assignments.groupby(['x', 'y']).size()\n",
      "\n",
      "sim_users = [RandomExample2(userid=i).get_params() for i in xrange(4000)]\n",
      "assignments = pd.DataFrame.from_dict(sim_users)\n",
      "print assignments.groupby(['x', 'y']).size()"
     ],
     "language": "python",
     "metadata": {},
     "outputs": []
    },
    {
     "cell_type": "heading",
     "level": 4,
     "metadata": {},
     "source": [
      "Experiment-level salts can be specified by setting `self.salt`"
     ]
    },
    {
     "cell_type": "markdown",
     "metadata": {},
     "source": [
      "The `self.salt` attribute of an experiment object specifies the experiment-level salt. You can set this attribute in the `setup()` method, which gets called before any assignments take place."
     ]
    },
    {
     "cell_type": "code",
     "collapsed": false,
     "input": [
      "class RandomExample1(SimpleExperiment):\n",
      "  def setup(self):\n",
      "        self.salt = 'RandomExample2'\n",
      "\n",
      "  def assign(self, params, userid):\n",
      "    params.x = UniformChoice(choices=[0, 1], unit=userid)\n",
      "    params.y = UniformChoice(choices=['a','b'], unit=userid)\n",
      "\n",
      "sim_users = [RandomExample2(userid=i).get_params() for i in xrange(4000)]\n",
      "assignments = pd.DataFrame.from_dict(sim_users)\n",
      "print assignments.groupby(['x', 'y']).agg(len)\n"
     ],
     "language": "python",
     "metadata": {},
     "outputs": []
    },
    {
     "cell_type": "heading",
     "level": 3,
     "metadata": {},
     "source": [
      "Additional notes on random assignment"
     ]
    },
    {
     "cell_type": "heading",
     "level": 4,
     "metadata": {},
     "source": [
      "Random assignment with multiple units"
     ]
    },
    {
     "cell_type": "markdown",
     "metadata": {},
     "source": [
      "When multiple units are used (e.g., in the case when user-item pairs are assigned to parameters in a within-subjects design), units are concatinated, so that if the input units are `userid=4` and `url='http://news.ycombinator.com'`, the hash operation would look like:\n",
      "\n",
      "    f(SHA1('RandomExperiment1.show_thumbnail.6.http://news.ycombinator.com'))"
     ]
    },
    {
     "cell_type": "code",
     "collapsed": false,
     "input": [
      "class RandomExample1(SimpleExperiment):\n",
      "  def assign(self, params, userid, url):\n",
      "    params.show_thumbnail = BernoulliTrial(p=0.15, unit=[userid, url])\n",
      "\n",
      "RandomExample1(userid=6, url='http://news.ycombinator.com').get('show_thumbnail')"
     ],
     "language": "python",
     "metadata": {},
     "outputs": []
    },
    {
     "cell_type": "markdown",
     "metadata": {},
     "source": [
      "Note that since the names of units are not used, assignment does depend on the order of the units:"
     ]
    },
    {
     "cell_type": "code",
     "collapsed": false,
     "input": [
      "class RandomExample1(SimpleExperiment):\n",
      "  def assign(self, params, userid, url):\n",
      "    params.show_thumbnail = BernoulliTrial(p=0.15, unit=[url, userid])\n",
      "\n",
      "RandomExample1(userid=6, url='http://news.ycombinator.com').get('show_thumbnail')"
     ],
     "language": "python",
     "metadata": {},
     "outputs": []
    },
    {
     "cell_type": "heading",
     "level": 4,
     "metadata": {},
     "source": [
      "Namespaces"
     ]
    },
    {
     "cell_type": "markdown",
     "metadata": {},
     "source": [
      "When an experiment is running under a namespace, the namespace name is concatenated with the experiment-level salt. See the PlanOut documentation for more information on namespaces."
     ]
    },
    {
     "cell_type": "code",
     "collapsed": false,
     "input": [],
     "language": "python",
     "metadata": {},
     "outputs": []
    }
   ],
   "metadata": {}
  }
 ]
}